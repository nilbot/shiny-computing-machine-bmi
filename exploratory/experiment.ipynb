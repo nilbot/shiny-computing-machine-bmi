{
 "cells": [
  {
   "cell_type": "code",
   "execution_count": 25,
   "metadata": {},
   "outputs": [],
   "source": [
    "import numpy as np\n",
    "import pandas as pd\n",
    "from typing import Tuple, List\n",
    "np.random.seed(42)\n"
   ]
  },
  {
   "cell_type": "markdown",
   "metadata": {},
   "source": [
    "# BMI Prediction\n",
    "\n",
    "The premise of this task, to my understanding, is to build a model to predict quote category for the applicants using a machine learning model trained from a dataset, whose labels are to be constructed using the set of given rules.\n",
    "\n",
    "## Dissecting the problem\n",
    "\n",
    "The business rules define the \"perfect\" solution to the problem, obviously in the real life we won't have this oracle knowledge about how to solve a complex problem -- if we have access to the said oracle, the problem would be already solved, therefore the \"perfect\" solution is the \"truth\" label we (or our machine learning model) are supposed to learn from. \n",
    "\n",
    "Straightforwardly, the objectives are:\n",
    "1. clean the dataset if necessary\n",
    "2. assign truth label to the dataset according to rules\n",
    "3. see if the resulting dataset is good enough for machine learning\n",
    "4. if not, do something\n",
    "5. if yes, train models and evaluate them\n",
    "6. if models are good enough, stop experimenting and write inference code\n",
    "7. write deployment code and documentation\n",
    "\n",
    "## assumptions and related challenges\n",
    "\n",
    "1. the predictive model assume data input with a certain degree of data integrity; should this assumption be broken, i.e. missing values from significant variable, we should output 'invalid' or 'rejection' instead of macthing a category.\n",
    "2. I assume the business rules are gold standard, in sofar that I won't tweak the parameters of the rules to affect a certain outcome. I assume the purpose of this task is to train a model to learn the rules as best as possible. Should this assumption be broken, I would lose the objectives completely, and there is no point going further.\n",
    "\n",
    "\n"
   ]
  },
  {
   "cell_type": "markdown",
   "metadata": {},
   "source": [
    "## Exploratory analysis on the sample dataset"
   ]
  },
  {
   "cell_type": "code",
   "execution_count": 26,
   "metadata": {},
   "outputs": [
    {
     "name": "stdout",
     "output_type": "stream",
     "text": [
      "   AppID  Ins_Age Ins_Gender   Ht   Wt  IssueDate\n",
      "0  56372       31       Male  510  185        NaN\n",
      "1  34565       35       Male  510  205        NaN\n",
      "2  57732       45     Female  510  125        NaN\n",
      "3  87324       38       Male  503  175        NaN\n",
      "4  12323       39     Female  600  252        NaN\n",
      "          Ins_Age  IssueDate\n",
      "count  100.000000        0.0\n",
      "mean    37.320000        NaN\n",
      "std     12.103827        NaN\n",
      "min     19.000000        NaN\n",
      "25%     27.750000        NaN\n",
      "50%     36.000000        NaN\n",
      "75%     47.000000        NaN\n",
      "max     59.000000        NaN\n"
     ]
    }
   ],
   "source": [
    "# we know that Ht field is composit data encoded like an integer, so we treat it as string when loading\n",
    "df = pd.read_csv('../data/Dummy-Data.csv', dtype={'AppID':str, 'Ins_Age': np.int64, 'Ht':str, 'Wt':str})\n",
    "print(df.head())\n",
    "print(df.describe())"
   ]
  },
  {
   "cell_type": "markdown",
   "metadata": {},
   "source": [
    "> we observe that `IssueDate` column in this dummy set contains only `null` values. Since we don't have any further information regarding the relevance, we elect to not to do any transformation for the datetime type here by leaving it untouched (copy only). And possibly later in modelling, this field will get completely ignored.\n",
    "\n",
    "### Transformation routines\n",
    "\n",
    "We will produce a cleaned dataset with values transformed into units that is direct consumable for machine learning"
   ]
  },
  {
   "cell_type": "code",
   "execution_count": 27,
   "metadata": {},
   "outputs": [],
   "source": [
    "def height_imperial_to_metric(height_imperial: str) -> float:\n",
    "    # height_imperial is in foot concatenated with inches\n",
    "    # e.g. '510' is 5 feet 10 inches\n",
    "    # e.g. '503' is 5 feet 3 inches\n",
    "    # note that the human height realistically shouldn't be more than 9 feet\n",
    "    # therefore we ignore the cases where input string has length that is not 3\n",
    "    assert len(height_imperial) == 3, \"height_imperial string must be 3 characters long\"\n",
    "    feet, inches = int(height_imperial[0]), int(height_imperial[1:])\n",
    "    inches += feet * 12\n",
    "    return inches * 0.0254\n",
    "\n",
    "def weight_imperial_to_metric(weight_imperial: str) -> float:\n",
    "    # weight_imperial is in pounds\n",
    "    return int(weight_imperial) * 0.453592\n",
    "\n",
    "\n",
    "def bmi_metric(height: float, weight: float) -> float:\n",
    "    return weight / (height**2)"
   ]
  },
  {
   "cell_type": "code",
   "execution_count": 28,
   "metadata": {},
   "outputs": [],
   "source": [
    "# Map the gender to integer values\n",
    "GENDER_CATEGORICAL_MAP = {\"Female\": 0, \"Male\": 1}\n",
    "# insurance quote categories under following business rules\n",
    "# 0. (AGE >= 18 and AGE <= 39) and (BMI < 17.49 or BMI >= 38.5) : 750\n",
    "# 1. (AGE >= 40 and AGE <= 59) and (BMI < 18.49 or BMI >= 38.5) : 1000\n",
    "# 2. (AGE >= 60) and (BMI < 18.49 or BMI >= 38.5) : 2000\n",
    "# 3. else: 500\n",
    "BMI_CATEGORICAL_MAP = {\n",
    "    0: (750, \"Age is between 18 to 39 and 'BMI' is either less than 17.49 or greater than 38.5\"),\n",
    "    1: (1000, \"Age is between 40 to 59 and 'BMI' is either less than 18.49 or greater than 38.5\"),\n",
    "    2: (2000, \"Age is greater than 60 and 'BMI' is either less than 18.49 or greater than 38.5\"),\n",
    "    3: (500, \"BMI is in right range\")\n",
    "}\n",
    "\n",
    "def quote_pre_discount_business_rules(age: int, bmi: float) -> int:\n",
    "\n",
    "    if age >= 18 and age <= 39 and (bmi < 17.49 or bmi >= 38.5):\n",
    "        matched_case = 0\n",
    "        # quote, reason = 750, \"Age is between 18 to 39 and 'BMI' is either less than 17.49 or greater than 38.5\"\n",
    "    elif age >= 40 and age <= 59 and (bmi < 18.49 or bmi >= 38.5):\n",
    "        matched_case = 1\n",
    "        # quote, reason = 1000, \"Age is between 40 to 59 and 'BMI' is either less than 18.49 or greater than 38.5\"\n",
    "    elif age >= 60 and (bmi < 18.49 or bmi >= 38.5):\n",
    "        matched_case = 2\n",
    "        # quote, reason = 2000, \"Age is greater than 60 and 'BMI' is either less than 18.49 or greater than 38.5\"\n",
    "    else:\n",
    "        matched_case = 3\n",
    "        # quote, reason = 500, \"BMI is in right range\"\n",
    "    return matched_case\n",
    "\n",
    "def quote_final(bmi_category:int, gender_discount:bool) -> float:\n",
    "    quote, _ = BMI_CATEGORICAL_MAP[bmi_category]\n",
    "    return quote * 0.9 if gender_discount else float(quote)\n",
    "\n",
    "def preprocess_dataset(df: pd.DataFrame) -> pd.DataFrame:\n",
    "    # convert gender to categorical values\n",
    "    # {\"female\":0, \"male\":1}\n",
    "\n",
    "    ret = pd.DataFrame(df, columns=[\"AppID\", \"Ins_Age\"])\n",
    "    ret.columns = [\"appid_int\", \"age_int\"]\n",
    "    ret[\"gender_c_int\"] = df[\"Ins_Gender\"].apply(lambda x: GENDER_CATEGORICAL_MAP[x])\n",
    "    # convert height and weight to metric\n",
    "    ret['height_metric_float'] = df['Ht'].apply(height_imperial_to_metric)\n",
    "    ret['weight_metric_float'] = df['Wt'].apply(weight_imperial_to_metric)\n",
    "    # calculate BMI\n",
    "    ret['bmi_float'] = ret.apply(lambda row: bmi_metric(row['height_metric_float'], row['weight_metric_float']), axis=1)\n",
    "\n",
    "    # construct target variables\n",
    "    # quote pre-discount business rules\n",
    "    ret['bmi_target_c_int'] = ret.apply(\n",
    "        lambda row: quote_pre_discount_business_rules(row['age_int'], row['bmi_float']), axis=1\n",
    "    )\n",
    "\n",
    "    return ret\n",
    "\n"
   ]
  },
  {
   "cell_type": "code",
   "execution_count": 29,
   "metadata": {},
   "outputs": [
    {
     "data": {
      "text/html": [
       "<div>\n",
       "<style scoped>\n",
       "    .dataframe tbody tr th:only-of-type {\n",
       "        vertical-align: middle;\n",
       "    }\n",
       "\n",
       "    .dataframe tbody tr th {\n",
       "        vertical-align: top;\n",
       "    }\n",
       "\n",
       "    .dataframe thead th {\n",
       "        text-align: right;\n",
       "    }\n",
       "</style>\n",
       "<table border=\"1\" class=\"dataframe\">\n",
       "  <thead>\n",
       "    <tr style=\"text-align: right;\">\n",
       "      <th></th>\n",
       "      <th>appid_int</th>\n",
       "      <th>age_int</th>\n",
       "      <th>gender_c_int</th>\n",
       "      <th>height_metric_float</th>\n",
       "      <th>weight_metric_float</th>\n",
       "      <th>bmi_float</th>\n",
       "      <th>bmi_target_c_int</th>\n",
       "    </tr>\n",
       "  </thead>\n",
       "  <tbody>\n",
       "    <tr>\n",
       "      <th>0</th>\n",
       "      <td>56372</td>\n",
       "      <td>31</td>\n",
       "      <td>1</td>\n",
       "      <td>1.7780</td>\n",
       "      <td>83.914520</td>\n",
       "      <td>26.544442</td>\n",
       "      <td>3</td>\n",
       "    </tr>\n",
       "    <tr>\n",
       "      <th>1</th>\n",
       "      <td>34565</td>\n",
       "      <td>35</td>\n",
       "      <td>1</td>\n",
       "      <td>1.7780</td>\n",
       "      <td>92.986360</td>\n",
       "      <td>29.414111</td>\n",
       "      <td>3</td>\n",
       "    </tr>\n",
       "    <tr>\n",
       "      <th>2</th>\n",
       "      <td>57732</td>\n",
       "      <td>45</td>\n",
       "      <td>0</td>\n",
       "      <td>1.7780</td>\n",
       "      <td>56.699000</td>\n",
       "      <td>17.935434</td>\n",
       "      <td>1</td>\n",
       "    </tr>\n",
       "    <tr>\n",
       "      <th>3</th>\n",
       "      <td>87324</td>\n",
       "      <td>38</td>\n",
       "      <td>1</td>\n",
       "      <td>1.6002</td>\n",
       "      <td>79.378600</td>\n",
       "      <td>30.999515</td>\n",
       "      <td>3</td>\n",
       "    </tr>\n",
       "    <tr>\n",
       "      <th>4</th>\n",
       "      <td>12323</td>\n",
       "      <td>39</td>\n",
       "      <td>0</td>\n",
       "      <td>1.8288</td>\n",
       "      <td>114.305184</td>\n",
       "      <td>34.176966</td>\n",
       "      <td>3</td>\n",
       "    </tr>\n",
       "  </tbody>\n",
       "</table>\n",
       "</div>"
      ],
      "text/plain": [
       "  appid_int  age_int  gender_c_int  height_metric_float  weight_metric_float  \\\n",
       "0     56372       31             1               1.7780            83.914520   \n",
       "1     34565       35             1               1.7780            92.986360   \n",
       "2     57732       45             0               1.7780            56.699000   \n",
       "3     87324       38             1               1.6002            79.378600   \n",
       "4     12323       39             0               1.8288           114.305184   \n",
       "\n",
       "   bmi_float  bmi_target_c_int  \n",
       "0  26.544442                 3  \n",
       "1  29.414111                 3  \n",
       "2  17.935434                 1  \n",
       "3  30.999515                 3  \n",
       "4  34.176966                 3  "
      ]
     },
     "execution_count": 29,
     "metadata": {},
     "output_type": "execute_result"
    }
   ],
   "source": [
    "dset = preprocess_dataset(df)\n",
    "dset.head()"
   ]
  },
  {
   "cell_type": "markdown",
   "metadata": {},
   "source": [
    "### Quality after initial Labels assigned\n",
    "\n",
    "first we should inspect the constructed target value (and its distribution). As mentioned in the analysis, one of the greatest challenges in classification problem is imbalanced classes"
   ]
  },
  {
   "cell_type": "code",
   "execution_count": 30,
   "metadata": {},
   "outputs": [
    {
     "data": {
      "text/plain": [
       "3    88\n",
       "1     8\n",
       "0     4\n",
       "Name: bmi_target_c_int, dtype: int64"
      ]
     },
     "execution_count": 30,
     "metadata": {},
     "output_type": "execute_result"
    }
   ],
   "source": [
    "dset['bmi_target_c_int'].value_counts()"
   ]
  },
  {
   "cell_type": "markdown",
   "metadata": {},
   "source": [
    "As we see here, the classes (labels) are terribly imbalanced. Any model trained from such set won't perform well in the global distribution. Because for example, if my model only output `3` and it will instantly get an accuracy of `88/(88+8+4) = 88%`! \n"
   ]
  },
  {
   "cell_type": "code",
   "execution_count": 31,
   "metadata": {},
   "outputs": [],
   "source": [
    "from sklearn.linear_model import LogisticRegression\n",
    "from sklearn.ensemble import RandomForestClassifier, GradientBoostingClassifier\n",
    "from sklearn.metrics import roc_auc_score, confusion_matrix, accuracy_score, recall_score, precision_score, ConfusionMatrixDisplay, f1_score"
   ]
  },
  {
   "cell_type": "code",
   "execution_count": 32,
   "metadata": {},
   "outputs": [],
   "source": [
    "def one_hot(data:np.ndarray, num_classes:int) -> np.ndarray:\n",
    "    return np.eye(num_classes)[data]\n",
    "\n",
    "def get_X_y(df: pd.DataFrame) -> Tuple[np.ndarray, np.ndarray]:\n",
    "    X = df.loc[:, [\"age_int\", \"gender_c_int\", \"bmi_float\"]].values\n",
    "    y = df[\"bmi_target_c_int\"].values\n",
    "    return X, y\n",
    "\n",
    "X, y = get_X_y(dset)\n"
   ]
  },
  {
   "cell_type": "code",
   "execution_count": 33,
   "metadata": {},
   "outputs": [
    {
     "name": "stdout",
     "output_type": "stream",
     "text": [
      "0.91\n",
      "[1 3]\n",
      "1.0\n",
      "[0 1 3]\n",
      "1.0\n",
      "[0 1 3]\n"
     ]
    }
   ],
   "source": [
    "\n",
    "clf_baseline = LogisticRegression(multi_class='multinomial', class_weight={0:1-(4/100), 1:1-(8/100), 2:1, 3:1-(88/100)}) # assign weights to classes given the distribution of the classes\n",
    "clf_baseline.fit(X, y)\n",
    "y_pred = clf_baseline.predict(X)\n",
    "print(accuracy_score(y, y_pred))\n",
    "print(np.unique(y_pred))\n",
    "\n",
    "clf_rf = RandomForestClassifier()\n",
    "clf_rf.fit(X, y)\n",
    "y_pred = clf_rf.predict(X)\n",
    "print(accuracy_score(y, y_pred))\n",
    "print(np.unique(y_pred))\n",
    "\n",
    "clf_gbdt = GradientBoostingClassifier()\n",
    "clf_gbdt.fit(X, y)\n",
    "y_pred = clf_gbdt.predict(X)\n",
    "print(accuracy_score(y, y_pred))\n",
    "print(np.unique(y_pred))"
   ]
  },
  {
   "cell_type": "markdown",
   "metadata": {},
   "source": [
    "As I thought, `baseline_lr` predicts only `1` and `3`, and `RandomForrest` and `GBDT` both overfit instantly. And they are not predicting `2` at all, because there is no `2` in the dataset!"
   ]
  },
  {
   "cell_type": "markdown",
   "metadata": {},
   "source": [
    "\n",
    "Luckily for us, since our task is to learn the rules instead of learning a representation of the distribution, we should think about building a synthetic dataset based on the format of this dataset, trying to balance the resulting label. \n"
   ]
  },
  {
   "cell_type": "code",
   "execution_count": 34,
   "metadata": {},
   "outputs": [
    {
     "data": {
      "text/plain": [
       "array([[<AxesSubplot:title={'center':'height_metric_float'}>,\n",
       "        <AxesSubplot:title={'center':'weight_metric_float'}>]],\n",
       "      dtype=object)"
      ]
     },
     "execution_count": 34,
     "metadata": {},
     "output_type": "execute_result"
    },
    {
     "data": {
      "image/png": "[encoded data removed]",
      "text/plain": [
       "<Figure size 720x720 with 2 Axes>"
      ]
     },
     "metadata": {
      "needs_background": "light"
     },
     "output_type": "display_data"
    }
   ],
   "source": [
    "dset.loc[:, [\"height_metric_float\", \"weight_metric_float\"]].hist(figsize=(10, 10))"
   ]
  },
  {
   "cell_type": "markdown",
   "metadata": {},
   "source": [
    "The same dataset contains a lot _tall_ people, and very few _overweight_ people.\n",
    "\n",
    "Because we know the exact rules for true label calculation, we could contribute to the label balance-ness by generating more samples for categories `2`, `1` and `3`\n",
    "\n",
    "I have a following strategy:\n",
    "I would generate close to realistic data based on reversed formula of BMI calcuation, plus, I would need some close to realistic data to begin with, either `height` or `weight`.\n",
    "\n",
    "I'd like to start with `height`"
   ]
  },
  {
   "cell_type": "code",
   "execution_count": 35,
   "metadata": {},
   "outputs": [
    {
     "data": {
      "text/plain": [
       "count    100.000000\n",
       "mean       1.736344\n",
       "std        0.100213\n",
       "min        1.524000\n",
       "25%        1.676400\n",
       "50%        1.752600\n",
       "75%        1.803400\n",
       "max        1.955800\n",
       "Name: height_metric_float, dtype: float64"
      ]
     },
     "execution_count": 35,
     "metadata": {},
     "output_type": "execute_result"
    }
   ],
   "source": [
    "dset['height_metric_float'].describe()"
   ]
  },
  {
   "cell_type": "code",
   "execution_count": 36,
   "metadata": {},
   "outputs": [
    {
     "data": {
      "text/plain": [
       "array([[<AxesSubplot:title={'center':'age_int'}>,\n",
       "        <AxesSubplot:title={'center':'gender_c_int'}>],\n",
       "       [<AxesSubplot:title={'center':'height_metric_float'}>,\n",
       "        <AxesSubplot:title={'center':'weight_metric_float'}>],\n",
       "       [<AxesSubplot:title={'center':'bmi_float'}>,\n",
       "        <AxesSubplot:title={'center':'bmi_target_c_int'}>]], dtype=object)"
      ]
     },
     "execution_count": 36,
     "metadata": {},
     "output_type": "execute_result"
    },
    {
     "data": {
      "image/png": "[encoded data removed]",
      "text/plain": [
       "<Figure size 720x720 with 6 Axes>"
      ]
     },
     "metadata": {
      "needs_background": "light"
     },
     "output_type": "display_data"
    }
   ],
   "source": [
    "# this will give us the distribution of each variables contributing to the so-called \"abnormal\" classes\n",
    "\n",
    "abnormal = dset.loc[dset['bmi_target_c_int'] != 3, :]\n",
    "abnormal.hist(figsize=(10, 10))"
   ]
  },
  {
   "cell_type": "markdown",
   "metadata": {},
   "source": [
    "Here we observed that there is no `2` in the label, meaning we need to create some people with `age` greater than 60; as well as more overweight and udnerweight people. But we __shouldn't__ create people with crazy `heights` i.e. 2+ meters"
   ]
  },
  {
   "cell_type": "code",
   "execution_count": 37,
   "metadata": {},
   "outputs": [
    {
     "data": {
      "text/html": [
       "<div>\n",
       "<style scoped>\n",
       "    .dataframe tbody tr th:only-of-type {\n",
       "        vertical-align: middle;\n",
       "    }\n",
       "\n",
       "    .dataframe tbody tr th {\n",
       "        vertical-align: top;\n",
       "    }\n",
       "\n",
       "    .dataframe thead th {\n",
       "        text-align: right;\n",
       "    }\n",
       "</style>\n",
       "<table border=\"1\" class=\"dataframe\">\n",
       "  <thead>\n",
       "    <tr style=\"text-align: right;\">\n",
       "      <th></th>\n",
       "      <th>age_int</th>\n",
       "      <th>gender_c_int</th>\n",
       "      <th>height_metric_float</th>\n",
       "      <th>weight_metric_float</th>\n",
       "      <th>bmi_float</th>\n",
       "      <th>bmi_target_c_int</th>\n",
       "    </tr>\n",
       "  </thead>\n",
       "  <tbody>\n",
       "    <tr>\n",
       "      <th>1</th>\n",
       "      <td>29.0</td>\n",
       "      <td>1.0</td>\n",
       "      <td>1.668197</td>\n",
       "      <td>85.196954</td>\n",
       "      <td>30.614668</td>\n",
       "      <td>0.0</td>\n",
       "    </tr>\n",
       "    <tr>\n",
       "      <th>2</th>\n",
       "      <td>30.0</td>\n",
       "      <td>1.0</td>\n",
       "      <td>1.759619</td>\n",
       "      <td>32.284816</td>\n",
       "      <td>10.427042</td>\n",
       "      <td>0.0</td>\n",
       "    </tr>\n",
       "    <tr>\n",
       "      <th>3</th>\n",
       "      <td>29.0</td>\n",
       "      <td>1.0</td>\n",
       "      <td>1.765714</td>\n",
       "      <td>52.691133</td>\n",
       "      <td>16.900400</td>\n",
       "      <td>0.0</td>\n",
       "    </tr>\n",
       "    <tr>\n",
       "      <th>4</th>\n",
       "      <td>31.0</td>\n",
       "      <td>1.0</td>\n",
       "      <td>1.664757</td>\n",
       "      <td>8.371255</td>\n",
       "      <td>3.020571</td>\n",
       "      <td>0.0</td>\n",
       "    </tr>\n",
       "    <tr>\n",
       "      <th>5</th>\n",
       "      <td>19.0</td>\n",
       "      <td>1.0</td>\n",
       "      <td>1.923319</td>\n",
       "      <td>3.610389</td>\n",
       "      <td>0.976004</td>\n",
       "      <td>0.0</td>\n",
       "    </tr>\n",
       "    <tr>\n",
       "      <th>...</th>\n",
       "      <td>...</td>\n",
       "      <td>...</td>\n",
       "      <td>...</td>\n",
       "      <td>...</td>\n",
       "      <td>...</td>\n",
       "      <td>...</td>\n",
       "    </tr>\n",
       "    <tr>\n",
       "      <th>176</th>\n",
       "      <td>91.0</td>\n",
       "      <td>1.0</td>\n",
       "      <td>1.927692</td>\n",
       "      <td>109.186722</td>\n",
       "      <td>29.382881</td>\n",
       "      <td>2.0</td>\n",
       "    </tr>\n",
       "    <tr>\n",
       "      <th>177</th>\n",
       "      <td>89.0</td>\n",
       "      <td>0.0</td>\n",
       "      <td>1.596189</td>\n",
       "      <td>61.688195</td>\n",
       "      <td>24.212144</td>\n",
       "      <td>2.0</td>\n",
       "    </tr>\n",
       "    <tr>\n",
       "      <th>178</th>\n",
       "      <td>88.0</td>\n",
       "      <td>1.0</td>\n",
       "      <td>1.792761</td>\n",
       "      <td>151.428096</td>\n",
       "      <td>47.115277</td>\n",
       "      <td>2.0</td>\n",
       "    </tr>\n",
       "    <tr>\n",
       "      <th>179</th>\n",
       "      <td>88.0</td>\n",
       "      <td>1.0</td>\n",
       "      <td>1.671141</td>\n",
       "      <td>102.974791</td>\n",
       "      <td>36.872675</td>\n",
       "      <td>2.0</td>\n",
       "    </tr>\n",
       "    <tr>\n",
       "      <th>180</th>\n",
       "      <td>89.0</td>\n",
       "      <td>1.0</td>\n",
       "      <td>1.687528</td>\n",
       "      <td>88.624331</td>\n",
       "      <td>31.120828</td>\n",
       "      <td>2.0</td>\n",
       "    </tr>\n",
       "  </tbody>\n",
       "</table>\n",
       "<p>180 rows × 6 columns</p>\n",
       "</div>"
      ],
      "text/plain": [
       "     age_int  gender_c_int  height_metric_float  weight_metric_float  \\\n",
       "1       29.0           1.0             1.668197            85.196954   \n",
       "2       30.0           1.0             1.759619            32.284816   \n",
       "3       29.0           1.0             1.765714            52.691133   \n",
       "4       31.0           1.0             1.664757             8.371255   \n",
       "5       19.0           1.0             1.923319             3.610389   \n",
       "..       ...           ...                  ...                  ...   \n",
       "176     91.0           1.0             1.927692           109.186722   \n",
       "177     89.0           0.0             1.596189            61.688195   \n",
       "178     88.0           1.0             1.792761           151.428096   \n",
       "179     88.0           1.0             1.671141           102.974791   \n",
       "180     89.0           1.0             1.687528            88.624331   \n",
       "\n",
       "     bmi_float  bmi_target_c_int  \n",
       "1    30.614668               0.0  \n",
       "2    10.427042               0.0  \n",
       "3    16.900400               0.0  \n",
       "4     3.020571               0.0  \n",
       "5     0.976004               0.0  \n",
       "..         ...               ...  \n",
       "176  29.382881               2.0  \n",
       "177  24.212144               2.0  \n",
       "178  47.115277               2.0  \n",
       "179  36.872675               2.0  \n",
       "180  31.120828               2.0  \n",
       "\n",
       "[180 rows x 6 columns]"
      ]
     },
     "execution_count": 37,
     "metadata": {},
     "output_type": "execute_result"
    }
   ],
   "source": [
    "def generate_abnormal_data_with_target_label(num_cls_label:List[int]) -> np.ndarray:\n",
    "    # num_cls_label is the numbers of each class label to be generated\n",
    "    # the labels should be 1, 2 and 3\n",
    "    # the return value contains 6 columns:\n",
    "    # 1. age_int\n",
    "    # 2. gender_c_int\n",
    "    # 3. height_metric_float\n",
    "    # 4. weight_metric_float\n",
    "    # 5. bmi_float\n",
    "    # 6. bmi_target_c_int\n",
    "\n",
    "    assert len(num_cls_label) == 3, \"number of abnormal labels should be 3\"\n",
    "\n",
    "    data_columns = [\"age_int\", \"gender_c_int\", \"height_metric_float\", \"weight_metric_float\", \"bmi_float\", \"bmi_target_c_int\"]\n",
    "    res = np.empty((1, 6))\n",
    "    # loop over num_cls_label to generate required number of target class data\n",
    "    for ith_label, num in enumerate(num_cls_label):\n",
    "\n",
    "        height = np.random.normal(loc=1.736344, scale=0.100213, size=num)\n",
    "        gender = np.random.randint(0, 2, size=num)\n",
    "        if ith_label == 0:\n",
    "            age_low, age_high = 18, 39\n",
    "            bmi_float_high, bmi_float_low = 17.49, 38.5\n",
    "        elif ith_label == 1:\n",
    "            age_low, age_high = 40, 59\n",
    "            bmi_float_high, bmi_float_low = 18.49, 38.5\n",
    "        elif ith_label == 2:\n",
    "            age_low, age_high = 60, 100\n",
    "            bmi_float_high, bmi_float_low = 18.49, 38.5\n",
    "        \n",
    "        bmi_float = np.random.uniform(low=0, high=bmi_float_low, size=num//2)\n",
    "        \n",
    "        bmi_float = np.concatenate([bmi_float, np.random.uniform(low=bmi_float_high, high=50, size=num//2)])\n",
    "        \n",
    "        weight = height ** 2 * bmi_float\n",
    "        \n",
    "        age = np.random.randint(age_low, age_high, size=num)\n",
    "\n",
    "        data = np.hstack((\n",
    "            age[np.newaxis].T, \n",
    "            gender[np.newaxis].T, \n",
    "            height[np.newaxis].T, \n",
    "            weight[np.newaxis].T, \n",
    "            bmi_float[np.newaxis].T, \n",
    "            np.array([ith_label for _ in range(num)])[np.newaxis].T\n",
    "        ))\n",
    "\n",
    "        \n",
    "        res = np.vstack((res, data))\n",
    "\n",
    "    return pd.DataFrame(res, columns=data_columns).iloc[1:, :]\n",
    "\n",
    "            \n",
    "generate_abnormal_data_with_target_label([60, 40, 80])\n",
    "    "
   ]
  },
  {
   "cell_type": "markdown",
   "metadata": {},
   "source": [
    "This looks very promising"
   ]
  },
  {
   "cell_type": "code",
   "execution_count": 38,
   "metadata": {},
   "outputs": [
    {
     "data": {
      "text/plain": [
       "array([[<AxesSubplot:title={'center':'age_int'}>,\n",
       "        <AxesSubplot:title={'center':'gender_c_int'}>],\n",
       "       [<AxesSubplot:title={'center':'height_metric_float'}>,\n",
       "        <AxesSubplot:title={'center':'weight_metric_float'}>],\n",
       "       [<AxesSubplot:title={'center':'bmi_float'}>,\n",
       "        <AxesSubplot:title={'center':'bmi_target_c_int'}>]], dtype=object)"
      ]
     },
     "execution_count": 38,
     "metadata": {},
     "output_type": "execute_result"
    },
    {
     "data": {
      "image/png": "[encoded data removed]",
      "text/plain": [
       "<Figure size 720x720 with 6 Axes>"
      ]
     },
     "metadata": {
      "needs_background": "light"
     },
     "output_type": "display_data"
    }
   ],
   "source": [
    "synthetic_dset = pd.concat([dset.iloc[:, 1:], generate_abnormal_data_with_target_label([60, 40, 80])]).sample(frac=1)\n",
    "synthetic_dset.hist(figsize=(10, 10))"
   ]
  },
  {
   "cell_type": "markdown",
   "metadata": {},
   "source": [
    "Now let's try some machine learning on this new dataset"
   ]
  },
  {
   "cell_type": "code",
   "execution_count": 39,
   "metadata": {},
   "outputs": [
    {
     "name": "stdout",
     "output_type": "stream",
     "text": [
      "[0. 1. 2. 3.] [0. 1. 2. 3.]\n",
      "y_train value counts:\n",
      "3.0    74\n",
      "2.0    65\n",
      "0.0    49\n",
      "1.0    36\n",
      "dtype: int64\n",
      "y_test value counts:\n",
      "2.0    15\n",
      "0.0    15\n",
      "3.0    14\n",
      "1.0    12\n",
      "dtype: int64\n"
     ]
    }
   ],
   "source": [
    "from sklearn.model_selection import train_test_split\n",
    "X_train, X_test, y_train, y_test = train_test_split(*get_X_y(synthetic_dset), test_size=0.2, random_state=42)\n",
    "print(np.unique(y_train), np.unique(y_test))\n",
    "\n",
    "print(f\"y_train value counts:\\n{pd.value_counts(y_train)}\")\n",
    "print(f\"y_test value counts:\\n{pd.value_counts(y_test)}\")"
   ]
  },
  {
   "cell_type": "code",
   "execution_count": 40,
   "metadata": {},
   "outputs": [
    {
     "name": "stdout",
     "output_type": "stream",
     "text": [
      "0.6428571428571429\n"
     ]
    }
   ],
   "source": [
    "\n",
    "clf_lr_synthetic = LogisticRegression(multi_class='multinomial', max_iter=1000)\n",
    "clf_lr_synthetic.fit(X_train, y_train)\n",
    "y_pred = clf_lr_synthetic.predict(X_test)\n",
    "print(accuracy_score(y_test, y_pred))\n"
   ]
  },
  {
   "cell_type": "markdown",
   "metadata": {},
   "source": [
    "What about old model's performance? (old model trained from given sample data, imbalanced)"
   ]
  },
  {
   "cell_type": "code",
   "execution_count": 41,
   "metadata": {},
   "outputs": [
    {
     "name": "stdout",
     "output_type": "stream",
     "text": [
      "baseline LR: 0.30357142857142855\n",
      "baseline RF: 0.32142857142857145\n"
     ]
    }
   ],
   "source": [
    "print(f\"baseline LR: {accuracy_score(y_test, clf_baseline.predict(X_test))}\")\n",
    "print(f\"baseline RF: {accuracy_score(y_test, clf_rf.predict(X_test))}\")"
   ]
  },
  {
   "cell_type": "markdown",
   "metadata": {},
   "source": [
    "Great! This validates my assumption\n",
    "\n",
    "## Training models\n",
    "\n",
    "Typically for problems like these, decision trees are the king, among DTs, GBDT (gradient boosted decision trees) are best. So we will train 1 logistic regression, 1 randomforest and 1 gbdt without too much hyperparameter tuning and turn that model into service backbone."
   ]
  },
  {
   "cell_type": "code",
   "execution_count": 42,
   "metadata": {},
   "outputs": [
    {
     "name": "stdout",
     "output_type": "stream",
     "text": [
      "accuracy 0.875\n",
      "recall 0.8767857142857143\n",
      "precision 0.8880090497737557\n",
      "f1_score 0.8750868486352357\n"
     ]
    },
    {
     "data": {
      "text/plain": [
       "<sklearn.metrics._plot.confusion_matrix.ConfusionMatrixDisplay at 0x133fd15a0>"
      ]
     },
     "execution_count": 42,
     "metadata": {},
     "output_type": "execute_result"
    },
    {
     "data": {
      "image/png": "[encoded data removed]",
      "text/plain": [
       "<Figure size 432x288 with 2 Axes>"
      ]
     },
     "metadata": {
      "needs_background": "light"
     },
     "output_type": "display_data"
    }
   ],
   "source": [
    "clf_rf_synthetic = RandomForestClassifier()\n",
    "clf_rf_synthetic.fit(X_train, y_train)\n",
    "y_pred = clf_rf_synthetic.predict(X_test)\n",
    "print(\"accuracy\", accuracy_score(y_test, y_pred))\n",
    "print(\"recall\", recall_score(y_test, y_pred, average=\"macro\"))\n",
    "print(\"precision\", precision_score(y_test, y_pred, average=\"macro\"))\n",
    "print(\"f1_score\", f1_score(y_test, y_pred, average=\"macro\"))\n",
    "cm = confusion_matrix(y_test, y_pred)\n",
    "disp = ConfusionMatrixDisplay(confusion_matrix=cm, display_labels=np.unique(y_test))\n",
    "disp.plot()\n",
    "\n"
   ]
  },
  {
   "cell_type": "code",
   "execution_count": 43,
   "metadata": {},
   "outputs": [
    {
     "name": "stdout",
     "output_type": "stream",
     "text": [
      "accuracy 0.9107142857142857\n",
      "recall 0.9107142857142857\n",
      "precision 0.9107142857142857\n",
      "f1_score 0.9107142857142857\n"
     ]
    },
    {
     "data": {
      "text/plain": [
       "<sklearn.metrics._plot.confusion_matrix.ConfusionMatrixDisplay at 0x131726770>"
      ]
     },
     "execution_count": 43,
     "metadata": {},
     "output_type": "execute_result"
    },
    {
     "data": {
      "image/png": "[encoded data removed]",
      "text/plain": [
       "<Figure size 432x288 with 2 Axes>"
      ]
     },
     "metadata": {
      "needs_background": "light"
     },
     "output_type": "display_data"
    }
   ],
   "source": [
    "clf_gbdt_synthetic = GradientBoostingClassifier()\n",
    "clf_gbdt_synthetic.fit(X_train, y_train)\n",
    "y_pred = clf_gbdt_synthetic.predict(X_test)\n",
    "print(\"accuracy\", accuracy_score(y_test, y_pred))\n",
    "print(\"recall\", recall_score(y_test, y_pred, average=\"micro\"))\n",
    "print(\"precision\", precision_score(y_test, y_pred, average=\"micro\"))\n",
    "print(\"f1_score\", f1_score(y_test, y_pred, average=\"micro\"))\n",
    "cm = confusion_matrix(y_test, y_pred)\n",
    "disp = ConfusionMatrixDisplay(confusion_matrix=cm, display_labels=np.unique(y_test))\n",
    "disp.plot()\n"
   ]
  },
  {
   "cell_type": "code",
   "execution_count": 44,
   "metadata": {},
   "outputs": [
    {
     "name": "stdout",
     "output_type": "stream",
     "text": [
      "accuracy 0.8571428571428571\n",
      "recall 0.8571428571428571\n",
      "precision 0.8836996336996338\n",
      "f1_score 0.8582142857142857\n"
     ]
    },
    {
     "data": {
      "text/plain": [
       "<sklearn.metrics._plot.confusion_matrix.ConfusionMatrixDisplay at 0x1317e7430>"
      ]
     },
     "execution_count": 44,
     "metadata": {},
     "output_type": "execute_result"
    },
    {
     "data": {
      "image/png": "[encoded data removed]",
      "text/plain": [
       "<Figure size 432x288 with 2 Axes>"
      ]
     },
     "metadata": {
      "needs_background": "light"
     },
     "output_type": "display_data"
    }
   ],
   "source": [
    "import lightgbm as lgb\n",
    "\n",
    "clf_gbm_synthetic = lgb.LGBMClassifier(boosting_type=\"gbdt\", n_estimators=2000, random_state=42, n_jobs=8)\n",
    "clf_gbm_synthetic.fit(X_train, y_train)\n",
    "y_pred = clf_gbm_synthetic.predict(X_test)\n",
    "print(\"accuracy\", accuracy_score(y_test, y_pred))\n",
    "print(\"recall\", recall_score(y_test, y_pred, labels=np.unique(y_test), average=\"weighted\"))\n",
    "print(\"precision\", precision_score(y_test, y_pred, labels=np.unique(y_test), average=\"weighted\"))\n",
    "print(\"f1_score\", f1_score(y_test, y_pred, labels=np.unique(y_test), average=\"weighted\"))\n",
    "cm = confusion_matrix(y_test, y_pred)\n",
    "disp = ConfusionMatrixDisplay(confusion_matrix=cm, display_labels=np.unique(y_test))\n",
    "disp.plot()\n",
    "\n"
   ]
  },
  {
   "cell_type": "markdown",
   "metadata": {},
   "source": [
    "`lgbm` tends to out-perform sklearn models __if__ tuned extensively, which I don't think I should aim for given that _\"Done is better than perfect\"_ "
   ]
  },
  {
   "cell_type": "markdown",
   "metadata": {},
   "source": [
    "## Conclude the experiment phase\n",
    "\n",
    "With accuracy over `90%` and high `f1_score`, it's good enough for first deployment. So we need to save the model (and the synthecised dataset too)"
   ]
  },
  {
   "cell_type": "code",
   "execution_count": 45,
   "metadata": {},
   "outputs": [],
   "source": [
    "from joblib import dump, load\n",
    "# dump(clf_gbm_synthetic, \"../model/clf_gbm_synthetic_8571.joblib\")\n",
    "# dump(clf_gbdt_synthetic, \"../model/clf_gdbt_synthetic_9111.joblib\")\n",
    "\n",
    "# synthetic_dset.to_csv(\"../data/synthetic.csv\", index=False)"
   ]
  }
 ],
 "metadata": {
  "kernelspec": {
   "display_name": "Python 3.10.4 ('ds')",
   "language": "python",
   "name": "python3"
  },
  "language_info": {
   "codemirror_mode": {
    "name": "ipython",
    "version": 3
   },
   "file_extension": ".py",
   "mimetype": "text/x-python",
   "name": "python",
   "nbconvert_exporter": "python",
   "pygments_lexer": "ipython3",
   "version": "3.10.4"
  },
  "orig_nbformat": 4,
  "vscode": {
   "interpreter": {
    "hash": "d6c35dfbe5512568f780de7e7241e06012b5467edb9bf24fef0e7a7eb5c76528"
   }
  }
 },
 "nbformat": 4,
 "nbformat_minor": 2
}
